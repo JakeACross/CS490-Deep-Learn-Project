{
 "cells": [
  {
   "cell_type": "markdown",
   "id": "e6baefff",
   "metadata": {},
   "source": [
    "# Facial Recognition: Transfer Learning Video Capture"
   ]
  },
  {
   "cell_type": "markdown",
   "id": "d7b933b0",
   "metadata": {},
   "source": [
    "### Libraries Used:"
   ]
  },
  {
   "cell_type": "code",
   "execution_count": 1,
   "id": "fd43df31",
   "metadata": {},
   "outputs": [],
   "source": [
    "# Libraries used for OpenCv and path creation/reading\n",
    "import cv2\n",
    "import os\n",
    "from os import listdir\n",
    "\n",
    "# Keras libraries necessary for the model creation\n",
    "import tensorflow as tf\n",
    "from tensorflow import keras\n",
    "from keras.models import Sequential, Model, load_model\n",
    "from keras.layers import Input, Dense, Activation\n",
    "from keras.layers import Flatten, Dropout\n",
    "from keras.layers import Conv2D, MaxPooling2D, ZeroPadding2D\n",
    "\n",
    "# Keras library for VGG16 model\n",
    "from keras.applications.vgg16 import VGG16\n",
    "\n",
    "# Libraries for preprocessing the data\n",
    "from PIL import Image\n",
    "from keras.preprocessing import image\n",
    "from keras.preprocessing.image import load_img, img_to_array, save_img\n",
    "from keras.preprocessing.image import ImageDataGenerator\n",
    "from keras.applications.imagenet_utils import preprocess_input\n",
    "from tensorflow.keras.utils import to_categorical\n",
    "from glob import glob\n",
    "\n",
    "# Importing numpy to work with arrays, matplotlib for visuals\n",
    "# and pandas for dataframe.\n",
    "import numpy as np\n",
    "import matplotlib.pyplot as plt\n",
    "import pandas as pd\n",
    "\n",
    "from scipy import spatial\n",
    "import math"
   ]
  },
  {
   "cell_type": "code",
   "execution_count": 2,
   "id": "0ac38538",
   "metadata": {},
   "outputs": [],
   "source": [
    "def cosineSimilarity(dataset_img, captured_img):\n",
    "    cos_dis = spatial.distance.cosine(dataset_img, captured_img)\n",
    "    cos_sim = 1 - cos_dis\n",
    "    return cos_sim\n"
   ]
  },
  {
   "cell_type": "code",
   "execution_count": 4,
   "id": "0ce970ea",
   "metadata": {},
   "outputs": [],
   "source": [
    "tl_model = load_model('frv1_model.h5')"
   ]
  },
  {
   "cell_type": "code",
   "execution_count": 5,
   "id": "dc75511d",
   "metadata": {},
   "outputs": [
    {
     "name": "stdout",
     "output_type": "stream",
     "text": [
      "['Jacob Paszkiewicz', 'Jake Cross', 'Txomin Chivite']\n"
     ]
    }
   ],
   "source": [
    "authorized_names = []\n",
    "name = r'C:\\Users\\jpasz\\Facial Recognition Images'\n",
    "authorized_names = [i for i in os.listdir(name)]\n",
    "print(authorized_names)"
   ]
  },
  {
   "cell_type": "code",
   "execution_count": 6,
   "id": "6f823148",
   "metadata": {},
   "outputs": [
    {
     "name": "stdout",
     "output_type": "stream",
     "text": [
      "C:/Users/jpasz/Facial Recognition Images/Jacob Paszkiewicz\n",
      "Found 150 images belonging to 1 classes.\n",
      "Jacob Paszkiewicz\n",
      "C:/Users/jpasz/Facial Recognition Images/Jake Cross\n",
      "Found 108 images belonging to 1 classes.\n",
      "Jake Cross\n",
      "C:/Users/jpasz/Facial Recognition Images/Txomin Chivite\n",
      "Found 150 images belonging to 1 classes.\n",
      "Txomin Chivite\n"
     ]
    }
   ],
   "source": [
    "user_image_path = r'C:/Users/jpasz/Facial Recognition Images'\n",
    "user_images = dict()\n",
    "for i in listdir(user_image_path):\n",
    "    if i != '.DS_Store':  # for mac users\n",
    "        current_folder = user_image_path + '/' + i\n",
    "        print(current_folder)\n",
    "        image_predictions = []\n",
    "        temp_i = ImageDataGenerator(rescale=1.0/255.0)\n",
    "        i_data = temp_i.flow_from_directory(user_image_path, classes=[i], target_size=(224, 224),\n",
    "                                             batch_size=16, class_mode='categorical')\n",
    "        i_img, i_labels = next(i_data)\n",
    "        pred = tl_model.predict(i_img)\n",
    "        # print(pred)\n",
    "        # print(pred[0])\n",
    "        print(authorized_names[pred[0].argmax()])\n",
    "        user_images[i] = pred"
   ]
  },
  {
   "cell_type": "code",
   "execution_count": 20,
   "id": "5b3ce28c",
   "metadata": {},
   "outputs": [
    {
     "name": "stdout",
     "output_type": "stream",
     "text": [
      "[1.000000e+00 1.371328e-32 0.000000e+00]\n",
      "Jacob Paszkiewicz\n",
      "1\n",
      "[1. 0. 0.]\n",
      "Jacob Paszkiewicz\n",
      "1\n",
      "[1.0000000e+00 5.2176425e-16 0.0000000e+00]\n",
      "Jacob Paszkiewicz\n",
      "1\n",
      "[1.0000000e+00 1.9984052e-28 0.0000000e+00]\n",
      "Jacob Paszkiewicz\n",
      "1\n",
      "[1.000000e+00 8.003785e-14 0.000000e+00]\n",
      "Jacob Paszkiewicz\n",
      "1\n",
      "[1.0000000e+00 1.4555751e-14 0.0000000e+00]\n",
      "Jacob Paszkiewicz\n",
      "1\n",
      "[1.000000e+00 5.076463e-15 0.000000e+00]\n",
      "Jacob Paszkiewicz\n",
      "1\n",
      "[1.000000e+00 3.554069e-15 0.000000e+00]\n",
      "Jacob Paszkiewicz\n",
      "1\n",
      "[1.0000000e+00 1.3743022e-25 0.0000000e+00]\n",
      "Jacob Paszkiewicz\n",
      "1\n",
      "[1.0000000e+00 7.5134914e-16 0.0000000e+00]\n",
      "Jacob Paszkiewicz\n",
      "1\n",
      "[1.0000000e+00 3.1932266e-11 0.0000000e+00]\n",
      "Jacob Paszkiewicz\n",
      "1\n",
      "[1.000000e+00 3.938786e-15 0.000000e+00]\n",
      "Jacob Paszkiewicz\n",
      "1\n",
      "[1.0000000e+00 1.0603733e-14 0.0000000e+00]\n",
      "Jacob Paszkiewicz\n",
      "1\n",
      "[1.0000000e+00 3.3497593e-16 0.0000000e+00]\n",
      "Jacob Paszkiewicz\n",
      "1\n",
      "[1.0000000e+00 1.1672741e-14 0.0000000e+00]\n",
      "Jacob Paszkiewicz\n",
      "1\n",
      "[1.0000000e+00 6.2317694e-19 0.0000000e+00]\n",
      "Jacob Paszkiewicz\n",
      "1\n",
      "[0.62555784 0.37444216 0.        ]\n",
      "Jacob Paszkiewicz\n",
      "Unrecognized User\n",
      "[0.9686244  0.03137556 0.        ]\n",
      "Jacob Paszkiewicz\n",
      "0.9994758367538452\n",
      "[0.15214391 0.84785604 0.        ]\n",
      "Jake Cross\n",
      "Unrecognized User\n",
      "[1.0000000e+00 5.1417156e-14 0.0000000e+00]\n",
      "Jacob Paszkiewicz\n",
      "1\n",
      "[2.7675625e-08 1.0000000e+00 0.0000000e+00]\n",
      "Jake Cross\n",
      "1\n"
     ]
    }
   ],
   "source": [
    "\n",
    "camera = cv2.VideoCapture(0)\n",
    "while(True):\n",
    "    result, image = camera.read()\n",
    "    if result:\n",
    "        face_cascade = cv2.CascadeClassifier(cv2.data.haarcascades + 'haarcascade_frontalface_alt2.xml')\n",
    "        detected_faces = face_cascade.detectMultiScale(image, 1.1, 4)\n",
    "        for (x, y, w, h) in detected_faces:\n",
    "            user_detected = False\n",
    "            cv2.rectangle(image, (x, y), (x + w, y + h), (0, 0, 255), 2)\n",
    "            face_recognized = image[y:y + h, x:x + w]\n",
    "            face_recognized = cv2.resize(face_recognized, dsize=(224, 224))\n",
    "            face_array = img_to_array(face_recognized)\n",
    "            face_expanded = np.expand_dims(face_array, axis=0)\n",
    "            face_preprocessed = preprocess_input(face_expanded)\n",
    "            video_prediction = tl_model.predict(face_preprocessed)\n",
    "            print(video_prediction[0])\n",
    "            print(authorized_names[video_prediction[0].argmax()])\n",
    "            for i in user_images:\n",
    "                user_folder = user_images[i]\n",
    "                for j in user_folder:\n",
    "                    cosine_similarity = cosineSimilarity(j, video_prediction)\n",
    "                    \n",
    "                    if(cosine_similarity >= 0.999):\n",
    "                        print(cosine_similarity)\n",
    "                        cv2.putText(image, authorized_names[video_prediction[0].argmax()],\n",
    "                                    (int(x+w+20), int(y-15)), cv2.FONT_HERSHEY_TRIPLEX, 1, (0, 0, 0), 1)\n",
    "                        user_detected=True\n",
    "                        break\n",
    " \n",
    "            if(user_detected==False):\n",
    "                cv2.putText(image, 'Unrecogized User', (int(x+w+20), int(y-15)), cv2.FONT_HERSHEY_TRIPLEX, 1, (0, 0, 0), 1)\n",
    "                print('Unrecognized User')\n",
    "     \n",
    "    cv2.imshow('Facial Recognition', image)\n",
    "    if cv2.waitKey(1) & 0xFF == ord('s'):\n",
    "        break\n",
    "camera.release()\n",
    "cv2.destroyAllWindows()           \n",
    "            \n",
    "            \n",
    "        \n"
   ]
  },
  {
   "cell_type": "code",
   "execution_count": null,
   "id": "ba859aa8",
   "metadata": {},
   "outputs": [],
   "source": []
  },
  {
   "cell_type": "code",
   "execution_count": null,
   "id": "21cd5894",
   "metadata": {},
   "outputs": [],
   "source": []
  }
 ],
 "metadata": {
  "kernelspec": {
   "display_name": "cs490_python_projects",
   "language": "python",
   "name": "cs490_python_projects"
  },
  "language_info": {
   "codemirror_mode": {
    "name": "ipython",
    "version": 3
   },
   "file_extension": ".py",
   "mimetype": "text/x-python",
   "name": "python",
   "nbconvert_exporter": "python",
   "pygments_lexer": "ipython3",
   "version": "3.9.7"
  }
 },
 "nbformat": 4,
 "nbformat_minor": 5
}
