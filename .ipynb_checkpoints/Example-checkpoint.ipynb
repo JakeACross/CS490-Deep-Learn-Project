{
 "cells": [
  {
   "cell_type": "markdown",
   "id": "f7920a4e",
   "metadata": {},
   "source": [
    "## Preprocess and load our dataset\n",
    "For preprocessing, convert all images in folders to array (224, 224, 3) and scale them. 70% of data is stored in train dataset array, 20% goes to validation dataset, and 10% goes to test dataset. Finally, convert all datas to float and one-hot-encode labels.   \n",
    "For creating a CNN model, I refered to https://sefiks.com/2018/08/06/deep-face-recognition-with-keras/"
   ]
  },
  {
   "cell_type": "code",
   "execution_count": 1,
   "id": "43689c5b",
   "metadata": {},
   "outputs": [],
   "source": [
    "# Import for loading and preprocessing\n",
    "\n",
    "import numpy as np\n",
    "import cv2\n",
    "from PIL import Image\n",
    "from tensorflow.keras.utils import to_categorical\n",
    "from keras.preprocessing.image import load_img, save_img, img_to_array\n",
    "from keras.applications.imagenet_utils import preprocess_input\n",
    "from keras.preprocessing import image\n",
    "import matplotlib.pyplot as plt\n",
    "from os import listdir"
   ]
  },
  {
   "cell_type": "code",
   "execution_count": 2,
   "id": "636a4dff",
   "metadata": {},
   "outputs": [],
   "source": [
    "# Preprocess_input normalizes input in scale of [-1, +1]. You must apply same normalization in prediction.\n",
    "# Devide the array by 127.5 and substract by 1\n",
    "# Ref: https://github.com/keras-team/keras-applications/blob/master/keras_applications/imagenet_utils.py (Line 45)\n",
    "\n",
    "def preprocess_image(file_path):\n",
    "    img = load_img(file_path, target_size=(224, 224)) \n",
    "    img = img_to_array(img)\n",
    "    img = preprocess_input(img)\n",
    "    \n",
    "    return img"
   ]
  },
  {
   "cell_type": "code",
   "execution_count": 3,
   "id": "6ac4c8b3",
   "metadata": {},
   "outputs": [],
   "source": [
    "# Initialize a file path, class name as int, and lists/arrays for dataset\n",
    "pictures_folder = \"New Faces\"\n",
    "\n",
    "our_class = 0\n",
    "\n",
    "train_data = []\n",
    "train_label = []\n",
    "valid_data = []\n",
    "valid_label = []\n",
    "test_data = []\n",
    "test_label = []"
   ]
  },
  {
   "cell_type": "code",
   "execution_count": 4,
   "id": "e9192f0a",
   "metadata": {},
   "outputs": [],
   "source": [
    "# Iterate a folder (\"New Faces\") to folder (\"User name\") to user's 150 face images\n",
    "# String beocomes file path by listdir\n",
    "for folder_name in listdir(pictures_folder):\n",
    "    if folder_name != '.DS_Store':  # for mac users\n",
    "        folder_path = pictures_folder+'/'+folder_name  # create a path for the next folder to iterate\n",
    "        \n",
    "        index = 0  # reset index\n",
    "        \n",
    "        for file_name in listdir(folder_path):\n",
    "            file_name = folder_path+'/'+file_name  # create a path for the files\n",
    "            face_img = preprocess_image(file_name)  # scale and load images by the path\n",
    "            \n",
    "            size = len(listdir(folder_path))\n",
    "            \n",
    "            # 70% of data for training\n",
    "            if index < size * 0.7: \n",
    "                train_data.append(face_img)\n",
    "                train_label.append(our_class)\n",
    "            \n",
    "            # 20% of data for validation\n",
    "            elif index < size * 0.9:\n",
    "                valid_data.append(face_img)\n",
    "                valid_label.append(our_class)\n",
    "            \n",
    "            # 10% of data for testing (not validation)\n",
    "            else:\n",
    "                test_data.append(face_img)\n",
    "                test_label.append(our_class)\n",
    "            \n",
    "            index += 1  # increment index\n",
    "        \n",
    "        # Change class name since it moves to another folder\n",
    "        our_class += 1"
   ]
  },
  {
   "cell_type": "code",
   "execution_count": 5,
   "id": "815114f6",
   "metadata": {},
   "outputs": [],
   "source": [
    "# Convert the list to numpy arrays of float\n",
    "train_data = np.array(train_data).astype('float32')\n",
    "valid_data = np.array(valid_data).astype('float32')\n",
    "test_data = np.array(test_data).astype('float32')\n",
    "\n",
    "# One-hot-encode labels for 'crosscategorical_entropy' loss function\n",
    "train_label = to_categorical(train_label)\n",
    "valid_label = to_categorical(valid_label)\n",
    "test_label = to_categorical(test_label)\n",
    "\n",
    "#train_data.shape"
   ]
  },
  {
   "cell_type": "markdown",
   "id": "ccadfafd",
   "metadata": {},
   "source": [
    "## Load pre-trained model\n",
    "Import VGG16 from keras-applications and load the model (CNN model).   \n",
    "Input shape is (224, 224, 3) that is size of images in our dataset.   \n",
    "Please refer to https://towardsdatascience.com/a-comprehensive-hands-on-guide-to-transfer-learning-with-real-world-applications-in-deep-learning-212bf3b2f27a"
   ]
  },
  {
   "cell_type": "code",
   "execution_count": 6,
   "id": "1f3731b5",
   "metadata": {},
   "outputs": [
    {
     "name": "stderr",
     "output_type": "stream",
     "text": [
      "2022-05-04 19:41:12.561033: I tensorflow/core/platform/cpu_feature_guard.cc:151] This TensorFlow binary is optimized with oneAPI Deep Neural Network Library (oneDNN) to use the following CPU instructions in performance-critical operations:  AVX2 FMA\n",
      "To enable them in other operations, rebuild TensorFlow with the appropriate compiler flags.\n"
     ]
    }
   ],
   "source": [
    "import keras\n",
    "from keras.applications import vgg16\n",
    "from keras.models import Model\n",
    "from keras.layers import Flatten\n",
    "\n",
    "# The size of images in our dataset\n",
    "input_shape = (224, 224, 3)\n",
    "\n",
    "# Load VGG16 model\n",
    "vgg = vgg16.VGG16(include_top=False, weights='imagenet', \n",
    "                                     input_shape=input_shape)\n",
    "# Build the model\n",
    "output = vgg.layers[-1].output\n",
    "output = Flatten()(output)\n",
    "vgg_model = Model(vgg.input, output)\n",
    "\n",
    "# Freeze all layers in the base model by setting trainable = False\n",
    "vgg_model.trainable = False\n",
    "for layer in vgg_model.layers:\n",
    "    layer.trainable = False"
   ]
  },
  {
   "cell_type": "code",
   "execution_count": 7,
   "id": "34a278ba",
   "metadata": {},
   "outputs": [],
   "source": [
    "# Optional: print the detail of layers if you want\n",
    "\n",
    "import pandas as pd\n",
    "pd.set_option('max_colwidth', None)\n",
    "layers = [(layer, layer.name, layer.trainable) for layer in vgg_model.layers]\n",
    "# pd.DataFrame(layers, columns=['Layer Type', 'Layer Name', 'Layer Trainable'])    "
   ]
  },
  {
   "cell_type": "markdown",
   "id": "09182679",
   "metadata": {},
   "source": [
    "## Build a model with the pre-trained model\n",
    "The layered architecture of deep learning model allows us to utilize a pre-trained network such as VGG16 without the final layer as a fixed feature extractor for the new task.   \n",
    "For feature extracting, add VGG model as layers and other layers for output to a sequentail model.   \n",
    "   \n",
    "Loss is 0, and accuracy is 1"
   ]
  },
  {
   "cell_type": "code",
   "execution_count": 8,
   "id": "3f06d686",
   "metadata": {},
   "outputs": [
    {
     "name": "stdout",
     "output_type": "stream",
     "text": [
      "Model: \"sequential\"\n",
      "_________________________________________________________________\n",
      " Layer (type)                Output Shape              Param #   \n",
      "=================================================================\n",
      " model (Functional)          (None, 25088)             14714688  \n",
      "                                                                 \n",
      " dense (Dense)               (None, 512)               12845568  \n",
      "                                                                 \n",
      " dropout (Dropout)           (None, 512)               0         \n",
      "                                                                 \n",
      " dense_1 (Dense)             (None, 512)               262656    \n",
      "                                                                 \n",
      " dropout_1 (Dropout)         (None, 512)               0         \n",
      "                                                                 \n",
      " dense_2 (Dense)             (None, 3)                 1539      \n",
      "                                                                 \n",
      "=================================================================\n",
      "Total params: 27,824,451\n",
      "Trainable params: 13,109,763\n",
      "Non-trainable params: 14,714,688\n",
      "_________________________________________________________________\n"
     ]
    }
   ],
   "source": [
    "from keras.layers import Dense, Dropout\n",
    "from keras.models import Sequential\n",
    "\n",
    "model = Sequential()\n",
    "model.add(vgg_model)  # the pre-trained model\n",
    "model.add(Dense(512, activation='relu', input_dim=input_shape))\n",
    "model.add(Dropout(0.3))\n",
    "model.add(Dense(512, activation='relu'))\n",
    "model.add(Dropout(0.3))\n",
    "model.add(Dense(3, activation='sigmoid'))  # output layer\n",
    "\n",
    "# Configure the learning process via the compilation method\n",
    "model.compile(loss='categorical_crossentropy',\n",
    "              optimizer='Adam',\n",
    "              metrics=['accuracy'])\n",
    "\n",
    "# Display the model              \n",
    "model.summary()             "
   ]
  },
  {
   "cell_type": "code",
   "execution_count": 9,
   "id": "53c3b2e6",
   "metadata": {},
   "outputs": [],
   "source": [
    "from keras.callbacks import EarlyStopping\n",
    "\n",
    "# Initialize the callback and add it to a list\n",
    "es = EarlyStopping(monitor='val_loss', patience=3, restore_best_weights=True)\n",
    "\n",
    "callback_list = [es]"
   ]
  },
  {
   "cell_type": "code",
   "execution_count": 10,
   "id": "29601724",
   "metadata": {},
   "outputs": [
    {
     "name": "stdout",
     "output_type": "stream",
     "text": [
      "Epoch 1/20\n",
      "31/31 [==============================] - 58s 2s/step - loss: 4.9229 - accuracy: 0.9032 - val_loss: 0.7220 - val_accuracy: 0.9889\n",
      "Epoch 2/20\n",
      "31/31 [==============================] - 54s 2s/step - loss: 6.0284e-06 - accuracy: 1.0000 - val_loss: 0.7044 - val_accuracy: 0.9889\n",
      "Epoch 3/20\n",
      "31/31 [==============================] - 53s 2s/step - loss: 0.0000e+00 - accuracy: 1.0000 - val_loss: 0.6842 - val_accuracy: 0.9889\n",
      "Epoch 4/20\n",
      "31/31 [==============================] - 53s 2s/step - loss: 0.0000e+00 - accuracy: 1.0000 - val_loss: 0.6828 - val_accuracy: 0.9889\n",
      "Epoch 5/20\n",
      "31/31 [==============================] - 52s 2s/step - loss: 0.0000e+00 - accuracy: 1.0000 - val_loss: 0.6827 - val_accuracy: 0.9889\n",
      "Epoch 6/20\n",
      "31/31 [==============================] - 53s 2s/step - loss: 3.9085e-10 - accuracy: 1.0000 - val_loss: 0.6824 - val_accuracy: 0.9889\n",
      "Epoch 7/20\n",
      "31/31 [==============================] - 52s 2s/step - loss: 0.0000e+00 - accuracy: 1.0000 - val_loss: 0.6815 - val_accuracy: 0.9889\n",
      "Epoch 8/20\n",
      "31/31 [==============================] - 53s 2s/step - loss: 0.5702 - accuracy: 0.9803 - val_loss: 0.2970 - val_accuracy: 0.9889\n",
      "Epoch 9/20\n",
      "31/31 [==============================] - 52s 2s/step - loss: 0.4289 - accuracy: 0.9934 - val_loss: 6.2023 - val_accuracy: 0.9667\n",
      "Epoch 10/20\n",
      "31/31 [==============================] - 52s 2s/step - loss: 0.6418 - accuracy: 0.9902 - val_loss: 1.9639 - val_accuracy: 0.9889\n",
      "Epoch 11/20\n",
      "31/31 [==============================] - 52s 2s/step - loss: 0.3224 - accuracy: 0.9967 - val_loss: 2.5607 - val_accuracy: 0.9889\n"
     ]
    }
   ],
   "source": [
    "# Fit the models and apply the callback with its loss and the accuracy of each epoch\n",
    "history = model.fit(train_data, train_label, batch_size=10, epochs=20, steps_per_epoch=31, \n",
    "                    callbacks=callback_list, validation_data=(valid_data, valid_label), shuffle=True)"
   ]
  },
  {
   "cell_type": "code",
   "execution_count": 11,
   "id": "b92a783b",
   "metadata": {},
   "outputs": [],
   "source": [
    "# Saved in the same folder. It can be loaded anytime by load_model(path_name) function\n",
    "model.save('fe_model' + '.h5')"
   ]
  },
  {
   "cell_type": "code",
   "execution_count": 12,
   "id": "32836dd9",
   "metadata": {},
   "outputs": [
    {
     "name": "stdout",
     "output_type": "stream",
     "text": [
      "2/2 [==============================] - 6s 2s/step - loss: 0.0000e+00 - accuracy: 1.0000\n",
      "Test loss: 0.0\n",
      "Test accuracy: 1.0\n"
     ]
    }
   ],
   "source": [
    "# Load the saved model\n",
    "from tensorflow import keras\n",
    "our_model = keras.models.load_model('fe_model.h5')\n",
    "\n",
    "# Print the scores\n",
    "scores = our_model.evaluate(test_data, test_label, verbose=1)\n",
    "print('Test loss:', scores[0])\n",
    "print('Test accuracy:', scores[1])"
   ]
  },
  {
   "cell_type": "markdown",
   "id": "420abb4c",
   "metadata": {},
   "source": [
    "## Predict on test data\n",
    "Our dataset has three classes. It uses 'np.argmax' to get the result from the one-hot encoded label."
   ]
  },
  {
   "cell_type": "code",
   "execution_count": 13,
   "id": "2a8e8410",
   "metadata": {},
   "outputs": [],
   "source": [
    "# The name of classes\n",
    "name = ['Jacob', 'Jake', 'Toxmin']\n",
    "\n",
    "# The index of images to test\n",
    "tester = [0, 17, 32]"
   ]
  },
  {
   "cell_type": "code",
   "execution_count": 14,
   "id": "ff9bbb41",
   "metadata": {},
   "outputs": [
    {
     "name": "stderr",
     "output_type": "stream",
     "text": [
      "Clipping input data to the valid range for imshow with RGB data ([0..1] for floats or [0..255] for integers).\n",
      "Clipping input data to the valid range for imshow with RGB data ([0..1] for floats or [0..255] for integers).\n",
      "Clipping input data to the valid range for imshow with RGB data ([0..1] for floats or [0..255] for integers).\n"
     ]
    },
    {
     "data": {
      "image/png": "[encoded data removed]",
      "text/plain": [
       "<Figure size 432x288 with 3 Axes>"
      ]
     },
     "metadata": {
      "needs_background": "light"
     },
     "output_type": "display_data"
    }
   ],
   "source": [
    "f, axarr = plt.subplots(3, 1)  # it is displayed as 3*1 matrix \n",
    "\n",
    "for i, num in enumerate(tester):  # iterate the list of idex\n",
    "    \n",
    "    # Get the array of the probabilties of each class (0 to 2)\n",
    "    predict_array = our_model.predict(test_data[[num],:])\n",
    "\n",
    "    # Index of the max value (the name of the class with the highest probability)\n",
    "    prediction = np.argmax(predict_array)\n",
    "    truth = np.argmax(test_label[num])\n",
    "    \n",
    "    # Print the image with title (Prediction and Ground Truth)\n",
    "    axarr[i].set_axis_off()\n",
    "    axarr[i].set_title('Pred: {}, Truth: {}'.format(name[prediction], name[truth]))\n",
    "    axarr[i].imshow(test_data[num])  # Needs reshape so that it can use imshow"
   ]
  }
 ],
 "metadata": {
  "kernelspec": {
   "display_name": "cs490_python_projects",
   "language": "python",
   "name": "cs490_python_projects"
  },
  "language_info": {
   "codemirror_mode": {
    "name": "ipython",
    "version": 3
   },
   "file_extension": ".py",
   "mimetype": "text/x-python",
   "name": "python",
   "nbconvert_exporter": "python",
   "pygments_lexer": "ipython3",
   "version": "3.9.7"
  }
 },
 "nbformat": 4,
 "nbformat_minor": 5
}
