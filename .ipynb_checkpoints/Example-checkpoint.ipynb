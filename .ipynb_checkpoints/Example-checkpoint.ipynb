{
 "cells": [
  {
   "cell_type": "markdown",
   "id": "f7920a4e",
   "metadata": {},
   "source": [
    "## Preprocess and load our dataset\n",
    "For preprocessing, convert all images in folders to array (224, 224, 3) and scale them. 70% of data is stored in train dataset array, 20% goes to validation dataset, and 10% goes to test dataset. Finally, convert all datas to float and one-hot-encode labels.   \n",
    "For creating a CNN model, I refered to https://sefiks.com/2018/08/06/deep-face-recognition-with-keras/"
   ]
  },
  {
   "cell_type": "code",
   "execution_count": 1,
   "id": "43689c5b",
   "metadata": {},
   "outputs": [],
   "source": [
    "# Import for loading and preprocessing\n",
    "\n",
    "import numpy as np\n",
    "import cv2\n",
    "from PIL import Image\n",
    "from tensorflow.keras.utils import to_categorical\n",
    "from keras.preprocessing.image import load_img, save_img, img_to_array\n",
    "from keras.applications.imagenet_utils import preprocess_input\n",
    "from keras.preprocessing import image\n",
    "import matplotlib.pyplot as plt\n",
    "from os import listdir"
   ]
  },
  {
   "cell_type": "markdown",
   "id": "8877ae70",
   "metadata": {},
   "source": [
    "RGB color code for texts. 0, 255, 0 is lime"
   ]
  },
  {
   "cell_type": "code",
   "execution_count": 2,
   "id": "e7e535ee",
   "metadata": {},
   "outputs": [],
   "source": [
    "color = (0,255,0)"
   ]
  },
  {
   "cell_type": "markdown",
   "id": "1b05a972",
   "metadata": {},
   "source": [
    "Create a classifier for face detections"
   ]
  },
  {
   "cell_type": "code",
   "execution_count": 3,
   "id": "36b88542",
   "metadata": {},
   "outputs": [],
   "source": [
    "face_cascade = cv2.CascadeClassifier(cv2.data.haarcascades+'haarcascade_frontalface_default.xml')"
   ]
  },
  {
   "cell_type": "code",
   "execution_count": 4,
   "id": "636a4dff",
   "metadata": {},
   "outputs": [],
   "source": [
    "# Preprocess_input normalizes input in scale of [-1, +1]. You must apply same normalization in prediction.\n",
    "# Devide the array by 127.5 and substract by 1\n",
    "# Ref: https://github.com/keras-team/keras-applications/blob/master/keras_applications/imagenet_utils.py (Line 45)\n",
    "\n",
    "def preprocess_image(file_path):\n",
    "    img = load_img(file_path, target_size=(224, 224)) \n",
    "    img = img_to_array(img)\n",
    "    img = preprocess_input(img)\n",
    "    \n",
    "    return img"
   ]
  },
  {
   "cell_type": "code",
   "execution_count": 5,
   "id": "6ac4c8b3",
   "metadata": {},
   "outputs": [],
   "source": [
    "# Initialize a file path, class name as int, and lists/arrays for dataset\n",
    "pictures_folder = \"New Faces\"\n",
    "\n",
    "our_class = []\n",
    "class_name = 0\n",
    "\n",
    "train_data = []\n",
    "train_label = []\n",
    "valid_data = []\n",
    "valid_label = []"
   ]
  },
  {
   "cell_type": "code",
   "execution_count": 6,
   "id": "e9192f0a",
   "metadata": {},
   "outputs": [],
   "source": [
    "# Iterate a folder (\"New Faces\") to folder (\"User name\") to user's 150 face images\n",
    "# String beocomes file path by listdir\n",
    "for folder_name in listdir(pictures_folder):\n",
    "    if folder_name != '.DS_Store':  # for mac users\n",
    "        our_class.append(folder_name)\n",
    "        \n",
    "        folder_path = pictures_folder+'/'+folder_name  # create a path for the next folder to iterate\n",
    "        \n",
    "        index = 0  # reset index\n",
    "        \n",
    "        for file_name in listdir(folder_path):\n",
    "            file_name = folder_path+'/'+file_name  # create a path for the files\n",
    "            face_img = preprocess_image(file_name)  # scale and load images by the path\n",
    "            \n",
    "            size = len(listdir(folder_path))\n",
    "            \n",
    "            # 70% of data for training\n",
    "            if index < size * 0.7: \n",
    "                train_data.append(face_img)\n",
    "                train_label.append(class_name)\n",
    "            \n",
    "            # 30% of data for validation\n",
    "            else:\n",
    "                valid_data.append(face_img)\n",
    "                valid_label.append(class_name)\n",
    "            \n",
    "            index += 1  # increment index\n",
    "        \n",
    "        class_name += 1"
   ]
  },
  {
   "cell_type": "code",
   "execution_count": 7,
   "id": "815114f6",
   "metadata": {},
   "outputs": [],
   "source": [
    "# Convert the list to numpy arrays of float\n",
    "train_data = np.array(train_data).astype('float32')\n",
    "valid_data = np.array(valid_data).astype('float32')\n",
    "\n",
    "# One-hot-encode labels for 'crosscategorical_entropy' loss function\n",
    "train_label = to_categorical(train_label)\n",
    "valid_label = to_categorical(valid_label)\n",
    "\n",
    "#train_data.shape"
   ]
  },
  {
   "cell_type": "markdown",
   "id": "ccadfafd",
   "metadata": {},
   "source": [
    "## Load pre-trained model\n",
    "Import VGG16 from keras-applications and load the model (CNN model).   \n",
    "Input shape is (224, 224, 3) that is size of images in our dataset.   \n",
    "Please refer to https://towardsdatascience.com/a-comprehensive-hands-on-guide-to-transfer-learning-with-real-world-applications-in-deep-learning-212bf3b2f27a"
   ]
  },
  {
   "cell_type": "code",
   "execution_count": 8,
   "id": "1f3731b5",
   "metadata": {},
   "outputs": [
    {
     "name": "stderr",
     "output_type": "stream",
     "text": [
      "2022-05-05 07:47:19.452629: I tensorflow/core/platform/cpu_feature_guard.cc:151] This TensorFlow binary is optimized with oneAPI Deep Neural Network Library (oneDNN) to use the following CPU instructions in performance-critical operations:  AVX2 FMA\n",
      "To enable them in other operations, rebuild TensorFlow with the appropriate compiler flags.\n"
     ]
    }
   ],
   "source": [
    "import keras\n",
    "from keras.applications import vgg16\n",
    "from keras.models import Model\n",
    "from keras.layers import Flatten\n",
    "\n",
    "# The size of images in our dataset\n",
    "input_shape = (224, 224, 3)\n",
    "\n",
    "# Load VGG16 model\n",
    "vgg = vgg16.VGG16(include_top=False, weights='imagenet', \n",
    "                                     input_shape=input_shape)\n",
    "# Build the model\n",
    "output = vgg.layers[-1].output\n",
    "output = Flatten()(output)\n",
    "vgg_model = Model(vgg.input, output)\n",
    "\n",
    "# Freeze all layers in the base model by setting trainable = False\n",
    "vgg_model.trainable = False\n",
    "for layer in vgg_model.layers:\n",
    "    layer.trainable = False"
   ]
  },
  {
   "cell_type": "markdown",
   "id": "09182679",
   "metadata": {},
   "source": [
    "## Build a model with the pre-trained model\n",
    "The layered architecture of deep learning model allows us to utilize a pre-trained network such as VGG16 without the final layer as a fixed feature extractor for the new task.   \n",
    "For feature extracting, add VGG model as layers and other layers for output to a sequentail model.   \n",
    "   \n",
    "Loss is 0, and accuracy is 1"
   ]
  },
  {
   "cell_type": "code",
   "execution_count": 9,
   "id": "3f06d686",
   "metadata": {},
   "outputs": [
    {
     "name": "stdout",
     "output_type": "stream",
     "text": [
      "Model: \"sequential\"\n",
      "_________________________________________________________________\n",
      " Layer (type)                Output Shape              Param #   \n",
      "=================================================================\n",
      " model (Functional)          (None, 25088)             14714688  \n",
      "                                                                 \n",
      " dense (Dense)               (None, 512)               12845568  \n",
      "                                                                 \n",
      " dropout (Dropout)           (None, 512)               0         \n",
      "                                                                 \n",
      " dense_1 (Dense)             (None, 512)               262656    \n",
      "                                                                 \n",
      " dropout_1 (Dropout)         (None, 512)               0         \n",
      "                                                                 \n",
      " dense_2 (Dense)             (None, 3)                 1539      \n",
      "                                                                 \n",
      "=================================================================\n",
      "Total params: 27,824,451\n",
      "Trainable params: 13,109,763\n",
      "Non-trainable params: 14,714,688\n",
      "_________________________________________________________________\n"
     ]
    }
   ],
   "source": [
    "from keras.layers import Dense, Dropout\n",
    "from keras.models import Sequential\n",
    "\n",
    "model = Sequential()\n",
    "model.add(vgg_model)  # the pre-trained model\n",
    "model.add(Dense(512, activation='relu', input_dim=input_shape))\n",
    "model.add(Dropout(0.3))\n",
    "model.add(Dense(512, activation='relu'))\n",
    "model.add(Dropout(0.3))\n",
    "model.add(Dense(len(our_class), activation='sigmoid'))  # output layer\n",
    "\n",
    "# Configure the learning process via the compilation method\n",
    "model.compile(loss='categorical_crossentropy',\n",
    "              optimizer='Adam',\n",
    "              metrics=['accuracy'])\n",
    "\n",
    "# Display the model              \n",
    "model.summary()             "
   ]
  },
  {
   "cell_type": "code",
   "execution_count": 10,
   "id": "53c3b2e6",
   "metadata": {},
   "outputs": [],
   "source": [
    "from keras.callbacks import EarlyStopping\n",
    "\n",
    "# Initialize the callback and add it to a list\n",
    "es = EarlyStopping(monitor='val_loss', patience=3, restore_best_weights=True)\n",
    "\n",
    "callback_list = [es]"
   ]
  },
  {
   "cell_type": "code",
   "execution_count": 11,
   "id": "29601724",
   "metadata": {},
   "outputs": [
    {
     "name": "stdout",
     "output_type": "stream",
     "text": [
      "Epoch 1/20\n",
      "31/31 [==============================] - 55s 2s/step - loss: 1.5467 - accuracy: 0.9387 - val_loss: 0.0891 - val_accuracy: 0.9926\n",
      "Epoch 2/20\n",
      "31/31 [==============================] - 54s 2s/step - loss: 0.0000e+00 - accuracy: 1.0000 - val_loss: 0.0000e+00 - val_accuracy: 1.0000\n",
      "Epoch 3/20\n",
      "31/31 [==============================] - 54s 2s/step - loss: 0.5533 - accuracy: 0.9869 - val_loss: 0.8765 - val_accuracy: 0.9926\n",
      "Epoch 4/20\n",
      "31/31 [==============================] - 54s 2s/step - loss: 0.1306 - accuracy: 0.9967 - val_loss: 0.0000e+00 - val_accuracy: 1.0000\n",
      "Epoch 5/20\n",
      "31/31 [==============================] - 54s 2s/step - loss: 0.2122 - accuracy: 0.9967 - val_loss: 0.0000e+00 - val_accuracy: 1.0000\n"
     ]
    }
   ],
   "source": [
    "# Fit the models and apply the callback with its loss and the accuracy of each epoch\n",
    "history = model.fit(train_data, train_label, batch_size=10, epochs=20, steps_per_epoch=31, \n",
    "                    callbacks=callback_list, validation_data=(valid_data, valid_label), shuffle=True)"
   ]
  },
  {
   "cell_type": "code",
   "execution_count": 12,
   "id": "b92a783b",
   "metadata": {},
   "outputs": [],
   "source": [
    "# Saved in the same folder. It can be loaded anytime by load_model(path_name) function\n",
    "model.save('fe_model' + '.h5')"
   ]
  },
  {
   "cell_type": "code",
   "execution_count": 13,
   "id": "32836dd9",
   "metadata": {},
   "outputs": [
    {
     "ename": "NameError",
     "evalue": "name 'test_data' is not defined",
     "output_type": "error",
     "traceback": [
      "\u001b[0;31m---------------------------------------------------------------------------\u001b[0m",
      "\u001b[0;31mNameError\u001b[0m                                 Traceback (most recent call last)",
      "\u001b[0;32m/var/folders/b4/r9wc37x16cz4gn0qqlskcfth0000gn/T/ipykernel_3518/136184615.py\u001b[0m in \u001b[0;36m<module>\u001b[0;34m\u001b[0m\n\u001b[1;32m      4\u001b[0m \u001b[0;34m\u001b[0m\u001b[0m\n\u001b[1;32m      5\u001b[0m \u001b[0;31m# Print the scores\u001b[0m\u001b[0;34m\u001b[0m\u001b[0;34m\u001b[0m\u001b[0m\n\u001b[0;32m----> 6\u001b[0;31m \u001b[0mscores\u001b[0m \u001b[0;34m=\u001b[0m \u001b[0mour_model\u001b[0m\u001b[0;34m.\u001b[0m\u001b[0mevaluate\u001b[0m\u001b[0;34m(\u001b[0m\u001b[0mtest_data\u001b[0m\u001b[0;34m,\u001b[0m \u001b[0mtest_label\u001b[0m\u001b[0;34m,\u001b[0m \u001b[0mverbose\u001b[0m\u001b[0;34m=\u001b[0m\u001b[0;36m1\u001b[0m\u001b[0;34m)\u001b[0m\u001b[0;34m\u001b[0m\u001b[0;34m\u001b[0m\u001b[0m\n\u001b[0m\u001b[1;32m      7\u001b[0m \u001b[0mprint\u001b[0m\u001b[0;34m(\u001b[0m\u001b[0;34m'Test loss:'\u001b[0m\u001b[0;34m,\u001b[0m \u001b[0mscores\u001b[0m\u001b[0;34m[\u001b[0m\u001b[0;36m0\u001b[0m\u001b[0;34m]\u001b[0m\u001b[0;34m)\u001b[0m\u001b[0;34m\u001b[0m\u001b[0;34m\u001b[0m\u001b[0m\n\u001b[1;32m      8\u001b[0m \u001b[0mprint\u001b[0m\u001b[0;34m(\u001b[0m\u001b[0;34m'Test accuracy:'\u001b[0m\u001b[0;34m,\u001b[0m \u001b[0mscores\u001b[0m\u001b[0;34m[\u001b[0m\u001b[0;36m1\u001b[0m\u001b[0;34m]\u001b[0m\u001b[0;34m)\u001b[0m\u001b[0;34m\u001b[0m\u001b[0;34m\u001b[0m\u001b[0m\n",
      "\u001b[0;31mNameError\u001b[0m: name 'test_data' is not defined"
     ]
    }
   ],
   "source": [
    "# Load the saved model\n",
    "from tensorflow import keras\n",
    "our_model = keras.models.load_model('fe_model.h5')"
   ]
  },
  {
   "cell_type": "code",
   "execution_count": 14,
   "id": "9be57555",
   "metadata": {},
   "outputs": [],
   "source": [
    "# Calculate a cosine distance between two values. Distance between similar vectors should be low.\n",
    "\n",
    "def findCosineDistance(source_representation, test_representation):\n",
    "    a = np.matmul(np.transpose(source_representation), test_representation)\n",
    "    b = np.sum(np.multiply(source_representation, source_representation))\n",
    "    c = np.sum(np.multiply(test_representation, test_representation))\n",
    "    return 1 - (a / (np.sqrt(b) * np.sqrt(c)))"
   ]
  },
  {
   "cell_type": "markdown",
   "id": "420abb4c",
   "metadata": {},
   "source": [
    "## Predict on test data"
   ]
  },
  {
   "cell_type": "code",
   "execution_count": 18,
   "id": "678fe722",
   "metadata": {},
   "outputs": [
    {
     "name": "stdout",
     "output_type": "stream",
     "text": [
      "[[1.0000000e+00 1.4542578e-09 5.7315935e-32]]\n"
     ]
    }
   ],
   "source": [
    "predict_array = our_model.predict(train_data[[0],:])\n",
    "# Index of the max value (the name of the class with the highest probability)\n",
    "prediction = np.argmax(predict_array)\n",
    "truth = np.argmax(train_label[0])"
   ]
  },
  {
   "cell_type": "code",
   "execution_count": 19,
   "id": "430c3aab",
   "metadata": {},
   "outputs": [
    {
     "ename": "IndentationError",
     "evalue": "unexpected indent (1665876823.py, line 26)",
     "output_type": "error",
     "traceback": [
      "\u001b[0;36m  File \u001b[0;32m\"/var/folders/b4/r9wc37x16cz4gn0qqlskcfth0000gn/T/ipykernel_3518/1665876823.py\"\u001b[0;36m, line \u001b[0;32m26\u001b[0m\n\u001b[0;31m    if predict_array[pred] > 0.9:\u001b[0m\n\u001b[0m    ^\u001b[0m\n\u001b[0;31mIndentationError\u001b[0m\u001b[0;31m:\u001b[0m unexpected indent\n"
     ]
    }
   ],
   "source": [
    "# Open webcam\n",
    "cap = cv2.VideoCapture(0)\n",
    "\n",
    "while(True):\n",
    "    ret, img = cap.read()  # get a image from webcam capture\n",
    "    faces = face_cascade.detectMultiScale(img, 1.3, 5)  # find faces in images\n",
    "\n",
    "    for (x,y,w,h) in faces:  # x, y represents initial posions in a graph. w is width and h is height\n",
    "        if w > 130: \n",
    "\n",
    "            detected_face = img[int(y):int(y+h), int(x):int(x+w)] # crop detected face\n",
    "            detected_face = cv2.resize(detected_face, (224, 224)) # resize to 224x224\n",
    "\n",
    "            img_pixels = preprocess_image(detected_face)\n",
    "            \n",
    "            # Assign the image extracted from webcam\n",
    "            predict_array = our_model.predict(img_pixels)[0,:]\n",
    "            \n",
    "            pred = np.argmax(predict_array)\n",
    "        \n",
    "\n",
    "            found = 0  # counter\n",
    "                \n",
    "                    \n",
    "                    # If cosine distance is small, consider it is k (user's name)\n",
    "            if predict_array[pred] > 0.9: \n",
    "                cv2.putText(img, our_class[pred], (int(x+w+15), int(y-12)), cv2.FONT_HERSHEY_SIMPLEX, 1, color, 2)\n",
    "                found = 1\n",
    "                break\n",
    "\n",
    "            # Connect face and text\n",
    "            cv2.line(img,(int((x+x+w)/2),y+15),(x+w,y-20),color,1)\n",
    "            cv2.line(img,(x+w,y-20),(x+w+10,y-20),color,1)\n",
    "            \n",
    "            # if found image is not in user's face dataset, display unknown\n",
    "            if(found == 0): \n",
    "                cv2.putText(img, 'unknown', (int(x+w+15), int(y-12)), cv2.FONT_HERSHEY_SIMPLEX, 1, color, 2)\n",
    "\n",
    "    cv2.imshow('img',img)\n",
    "\n",
    "    if cv2.waitKey(1) & 0xFF == ord('q'): # press q to quit\n",
    "        break\n",
    "\n",
    "# Kill open cv things\n",
    "cap.release()\n",
    "cv2.destroyAllWindows()\n",
    "            "
   ]
  },
  {
   "cell_type": "code",
   "execution_count": null,
   "id": "40aefff1",
   "metadata": {},
   "outputs": [],
   "source": []
  }
 ],
 "metadata": {
  "kernelspec": {
   "display_name": "cs490_python_projects",
   "language": "python",
   "name": "cs490_python_projects"
  },
  "language_info": {
   "codemirror_mode": {
    "name": "ipython",
    "version": 3
   },
   "file_extension": ".py",
   "mimetype": "text/x-python",
   "name": "python",
   "nbconvert_exporter": "python",
   "pygments_lexer": "ipython3",
   "version": "3.9.7"
  }
 },
 "nbformat": 4,
 "nbformat_minor": 5
}
