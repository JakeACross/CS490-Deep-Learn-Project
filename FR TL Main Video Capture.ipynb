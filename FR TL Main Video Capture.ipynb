{
 "cells": [
  {
   "cell_type": "markdown",
   "id": "0a79906f",
   "metadata": {},
   "source": [
    "# Facial Recognition: Transfer Learning Video Capture"
   ]
  },
  {
   "cell_type": "markdown",
   "id": "e86a8943",
   "metadata": {},
   "source": []
  },
  {
   "cell_type": "markdown",
   "id": "fb20ac3e",
   "metadata": {},
   "source": [
    "### Libraries Used:"
   ]
  },
  {
   "cell_type": "code",
   "execution_count": 1,
   "id": "09afa5a9",
   "metadata": {},
   "outputs": [],
   "source": [
    "# Libraries used for OpenCv and path creation/reading\n",
    "import cv2\n",
    "import os\n",
    "from os import listdir\n",
    "\n",
    "# Keras libraries necessary for the model creation\n",
    "import tensorflow as tf\n",
    "from tensorflow import keras\n",
    "from keras.models import Sequential, Model, load_model\n",
    "from keras.layers import Input, Dense, Activation\n",
    "from keras.layers import Flatten, Dropout\n",
    "from keras.layers import Conv2D, MaxPooling2D, ZeroPadding2D\n",
    "\n",
    "# Keras library for VGG16 model\n",
    "from keras.applications.vgg16 import VGG16\n",
    "\n",
    "# Libraries for preprocessing the data\n",
    "from PIL import Image\n",
    "from keras.preprocessing import image\n",
    "from keras.preprocessing.image import load_img, img_to_array, save_img\n",
    "from keras.preprocessing.image import ImageDataGenerator\n",
    "from keras.applications.imagenet_utils import preprocess_input\n",
    "from tensorflow.keras.utils import to_categorical\n",
    "from glob import glob\n",
    "\n",
    "# Importing numpy to work with arrays, matplotlib for visuals\n",
    "# and pandas for dataframe.\n",
    "import numpy as np\n",
    "import matplotlib.pyplot as plt\n",
    "import pandas as pd\n",
    "\n",
    "from scipy import spatial"
   ]
  },
  {
   "cell_type": "code",
   "execution_count": 2,
   "id": "f4045aba",
   "metadata": {},
   "outputs": [],
   "source": [
    "def cosineSimilarity(dataset_img, captured_img):\n",
    "    cos_dis = spatial.distance.cosine(dataset_img, captured_img)\n",
    "    cos_sim = 1 - cos_dis\n",
    "    return cos_sim"
   ]
  },
  {
   "cell_type": "code",
   "execution_count": 3,
   "id": "e7864421",
   "metadata": {},
   "outputs": [],
   "source": [
    "tl_model = load_model('frv_model.h5')"
   ]
  },
  {
   "cell_type": "code",
   "execution_count": 4,
   "id": "724287ae",
   "metadata": {},
   "outputs": [],
   "source": [
    "user_image_path = r'C:/Users/jpasz/Facial Recognition Images'\n",
    "user_images = dict()\n",
    "for i in listdir(user_image_path):\n",
    "    if i != '.DS_Store':  # for mac users\n",
    "        current_folder = user_image_path + '/' + i\n",
    "        image_predictions = []\n",
    "        for j in listdir(current_folder):\n",
    "            current_image = current_folder+'/'+j\n",
    "            current_user_face = load_img(current_image, target_size=(224, 224))\n",
    "            face_array = img_to_array(current_user_face)\n",
    "            face_expanded = np.expand_dims(face_array, axis=0)\n",
    "            face_preprocessed = preprocess_input(face_expanded)\n",
    "            image_predictions.append(tl_model.predict(face_preprocessed)[0,:])\n",
    "        user_images[i] = image_predictions\n",
    "        "
   ]
  },
  {
   "cell_type": "code",
   "execution_count": 7,
   "id": "679d68e7",
   "metadata": {},
   "outputs": [],
   "source": [
    "\n",
    "camera = cv2.VideoCapture(0)\n",
    "while(True):\n",
    "    result, image = camera.read()\n",
    "    if result:\n",
    "        user_detected = False\n",
    "        face_cascade = cv2.CascadeClassifier(cv2.data.haarcascades + 'haarcascade_frontalface_alt2.xml')\n",
    "        detected_faces = face_cascade.detectMultiScale(image, 1.1, 4)\n",
    "        for (x, y, w, h) in detected_faces:\n",
    "            cv2.rectangle(image, (x, y), (x + w, y + h), (0, 0, 255), 2)\n",
    "            face_recognized = image[y:y + h, x:x + w]\n",
    "            face_recognized = cv2.resize(face_recognized, dsize=(224, 224))\n",
    "            face_array = img_to_array(face_recognized)\n",
    "            face_expanded = np.expand_dims(face_array, axis=0)\n",
    "            face_preprocessed = preprocess_input(face_expanded)\n",
    "            video_prediction = tl_model.predict(face_preprocessed)[0, :]\n",
    "            for i in user_images:\n",
    "                user_folder = user_images[i]\n",
    "                for j in user_folder:\n",
    "                    cosine_similarity = cosineSimilarity(j, video_prediction)\n",
    "                    if(cosine_similarity <= 0.25):\n",
    "                        cv2.putText(image, i, (int(x+w+20), int(y-15)), cv2.FONT_HERSHEY_TRIPLEX, 1, (0, 0, 0), 1)\n",
    "                        user_detected=True\n",
    "                        break\n",
    " \n",
    "            if(user_detected==False):\n",
    "                cv2.putText(image, 'Unrecogized User', (int(x+w+20), int(y-15)), cv2.FONT_HERSHEY_TRIPLEX, 1, (0, 0, 0), 3)\n",
    "     \n",
    "    cv2.imshow('Facial Recognition', image)\n",
    "    if cv2.waitKey(1) & 0xFF == ord('s'):\n",
    "        break\n",
    "camera.release()\n",
    "cv2.destroyAllWindows()           \n",
    "            \n",
    "            \n",
    "        \n"
   ]
  },
  {
   "cell_type": "code",
   "execution_count": null,
   "id": "4dfd7f51",
   "metadata": {},
   "outputs": [],
   "source": []
  }
 ],
 "metadata": {
  "kernelspec": {
   "display_name": "gpu_tensorflow",
   "language": "python",
   "name": "gpu_tensorflow"
  },
  "language_info": {
   "codemirror_mode": {
    "name": "ipython",
    "version": 3
   },
   "file_extension": ".py",
   "mimetype": "text/x-python",
   "name": "python",
   "nbconvert_exporter": "python",
   "pygments_lexer": "ipython3",
   "version": "3.9.12"
  }
 },
 "nbformat": 4,
 "nbformat_minor": 5
}
