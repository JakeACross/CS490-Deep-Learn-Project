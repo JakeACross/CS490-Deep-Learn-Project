{
 "cells": [
  {
   "cell_type": "markdown",
   "id": "6cc4fee6",
   "metadata": {},
   "source": [
    "# OpenCV Facial Recognition Dataset Generation"
   ]
  },
  {
   "cell_type": "markdown",
   "id": "e7705c9a",
   "metadata": {},
   "source": [
    "### This program utilizes OpenCV to gather face images for a facial recognition dataset.\n",
    "### How it works is by prompting the user to enter in the user's name. This name is designated as the folder name for the dataset. The image path is created using my custom location. To have this successfully run on a different computer, simply change image_path to wherever you want to save your images to. Once the path is established, the program begins taking pictures looking for faces. It saves the face your are trying to train into 150 256 x 256 cropped images. These images are saved into the path and folder that the program creates. This makes it easy to copy and transport these folders to design a facial recognition dataset."
   ]
  },
  {
   "cell_type": "code",
   "execution_count": 1,
   "id": "bddddbb1",
   "metadata": {},
   "outputs": [],
   "source": [
    "# Libraries necessary to use OpenCV and saving files to a specific path\n",
    "import cv2\n",
    "import os\n",
    "from pathlib import Path"
   ]
  },
  {
   "cell_type": "code",
   "execution_count": null,
   "id": "24b137c2",
   "metadata": {},
   "outputs": [],
   "source": [
    "# The user is prompted to enter their name. It is string saved be used as\n",
    "# the file folder name.\n",
    "user_folder = input(\"Enter the user's name: \")\n",
    "print(\"The user's name is: \", user_folder)"
   ]
  },
  {
   "cell_type": "code",
   "execution_count": 3,
   "id": "33aba776",
   "metadata": {},
   "outputs": [],
   "source": [
    "# The image count is set to 1 it will be used to label the images in the while loop.\n",
    "image_count = 1\n",
    "'''\n",
    "The image path is set here. To have this program properly work on your machine,\n",
    "you would need to change this image_path to where you want these images saved on\n",
    "your computer.\n",
    "'''\n",
    "image_path = 'C:/Users/jpasz/Documents/Python Datasets/Facial Recognition OpenCv/'\n",
    "# The user name is set to the same string as the user folder. The path is also set here.\n",
    "user_name = user_folder\n",
    "Path('{}/{}'.format(image_path, user_folder)).mkdir(parents=True, exist_ok=True)\n",
    "\n",
    "# This while loop will run until the program grabs and saves 150 cropped images to the\n",
    "# specified path.\n",
    "camera = cv2.VideoCapture(0)\n",
    "while image_count <= 150:\n",
    "    # The camera is initialized here and captures an image.\n",
    "    result, image = camera.read()\n",
    "    # If the image capture is sucessful, this if statement is run.\n",
    "    if result:\n",
    "        # The captured image is briefly shown here.\n",
    "        cv2.imshow('OpenCV Camera Test', image)\n",
    "        # The image is converted to grayscale and a cascade classifier is ran to detect faces.\n",
    "        gray_img = cv2.cvtColor(image, cv2.COLOR_BGR2GRAY)\n",
    "        face_cascade = cv2.CascadeClassifier(cv2.data.haarcascades + 'haarcascade_frontalface_alt2.xml')\n",
    "        detected_faces = face_cascade.detectMultiScale(gray_img, 1.1, 4)\n",
    "        # This for loop takes the faces that were detected and crops them to just be\n",
    "        # the faces in the image.\n",
    "        for (x, y, w, h) in detected_faces:\n",
    "            # A rectangle is formed around the face and the face is cropped.\n",
    "            cv2.rectangle(image, (x, y), (x + w, y + h), (0, 0, 255), 2)\n",
    "            cropped_face = image[y:y + h, x:x + w]\n",
    "            cropped_face = cv2.resize(cropped_face, dsize=(224, 224))\n",
    "            # The cropped image is saved to the path and image counter is increased.\n",
    "            cv2.imwrite(r'{}/{}/{}_{}.jpg'.format(image_path, user_folder, user_name, image_count), cropped_face)\n",
    "            image_count += 1\n",
    "        # cv2.waitKey(0)\n",
    "    # The camera is turned off and all OpenCV windows are destroyed.\n",
    "camera.release()\n",
    "cv2.destroyAllWindows()"
   ]
  },
  {
   "cell_type": "code",
   "execution_count": null,
   "id": "65ffcc1e",
   "metadata": {},
   "outputs": [],
   "source": []
  }
 ],
 "metadata": {
  "kernelspec": {
   "display_name": "Python 3 (ipykernel)",
   "language": "python",
   "name": "python3"
  },
  "language_info": {
   "codemirror_mode": {
    "name": "ipython",
    "version": 3
   },
   "file_extension": ".py",
   "mimetype": "text/x-python",
   "name": "python",
   "nbconvert_exporter": "python",
   "pygments_lexer": "ipython3",
   "version": "3.9.7"
  }
 },
 "nbformat": 4,
 "nbformat_minor": 5
}
